{
 "cells": [
  {
   "cell_type": "markdown",
   "metadata": {},
   "source": [
    "# Lab 8: Applications of Markov chains and graphs"
   ]
  },
  {
   "cell_type": "markdown",
   "metadata": {},
   "source": [
    "In this lab we will be looking at some applications of Markov chains and graphs, namely, the page rank algorithm, an introduction to statistical inference with a Markov model, and cache replacement policies.\n",
    "\n",
    "Below is the code to import the modules we will be using throughout this lab."
   ]
  },
  {
   "cell_type": "code",
   "execution_count": 1,
   "metadata": {
    "collapsed": false
   },
   "outputs": [
    {
     "name": "stdout",
     "output_type": "stream",
     "text": [
      "Modules Imported!\n",
      "Markov_chain class defined\n"
     ]
    }
   ],
   "source": [
    "%matplotlib inline\n",
    "import matplotlib.pyplot as plt\n",
    "import numpy as np\n",
    "import scipy as sp\n",
    "import scipy.stats as st\n",
    "import csv as csv\n",
    "import networkx as nx\n",
    "print \"Modules Imported!\"\n",
    "\n",
    "# Markov chain object similar to random variable objects in scipy.stats (st)\n",
    "\n",
    "class Markov_chain:\n",
    "    def __init__(self, P, pi0):   # The transition probability matrix and initial distribution are passed\n",
    "        self.P = P \n",
    "        self.pi0 = pi0\n",
    "        self.n=np.size(pi0)\n",
    "        if np.shape(P) != (self.n,self.n):\n",
    "            print \"Error: Shape of P doesn't match pi0\"\n",
    "   \n",
    "    def rvs(self,T):     # produce a length T segment of variates of the random process\n",
    "        X = [np.random.choice(self.n, p=self.pi0)]  # p is a needed input for np.random.choice()\n",
    "        for t in range(1,T):\n",
    "            X.append(np.random.choice(self.n, p=self.P[X[t-1],:])) \n",
    "        return np.array(X)\n",
    "    \n",
    "    def pi(self,t):    # produce probability distribution at time t\n",
    "        pi_new=self.pi0\n",
    "        for s in range(t):\n",
    "            pi_new = np.dot(pi_new, self.P)    # one step update of probability distribution\n",
    "        return pi_new\n",
    "print \"Markov_chain class defined\""
   ]
  },
  {
   "cell_type": "markdown",
   "metadata": {},
   "source": [
    "## Page Rank Algorithm"
   ]
  },
  {
   "cell_type": "markdown",
   "metadata": {},
   "source": [
    "Now that we see how to generate, manipulate, and plot graphs, we can investigate Page's ranking algorithm for webpages, which uses a Markov chain based on the graphical structure of the set of web pages on the Internet.  Suppose now that we have a directed graph that represents a set of web pages; a link from one webpage to another designates that the first webpage has a hyperlink to the second webpage.   Then webpages that have more incoming edges should have a higher rank.   If the webpages pointing into a particular webpage have higher ranks, then the ranking of the webpage pointed to should be even higher.    These ideas are encapsulated in the pagerank algorithm, which is based on a Markov chain with the following one-step transition probability matrix:  \n",
    "$p_{i,j} = \\frac{dA_{i,j}}{\\mbox{out_degree}(i)} +  \\frac{1-d}{n}.$  Here $A$ represents the adjacency matrix of the graph, so that $A_{i,j}=1$ if there is an edge from $i$ to $j,$  and $A_{i,j}=0$ otherwise.\n",
    "Originally Google used $d$=85%. That is, if the current state is $i$, then a biased coin is flipped with heads showing with probability $d.$   If heads shows, then the next state is one of the nodes pointed to by node $i,$  with all choices having equal probability.  If tails shows, the next node is selected at random from among all nodes in the graph, each with equal probability.  There is a slight problem about what to do if a node has outdegree zero because in that case the first term is not well defined; you will be asked to address this problem.\n",
    "\n",
    "The following code generates a random directed graph, and then ranks the popularity of the nodes in the graph using the pagerank method. The code uses the adjacency matrix of the graph, mentioned above. Instead of using the equilibrium distribution for the Markov chain, we use the probability distribution of the chain after 100 time steps.  The row sums of the adjacency matrix give the outdegrees.  One way to think about it is that the Markov chain models a person randomly clicking through webpages.  Pages are ranked according to the probability distribution of which page the person has reached after 100 time steps."
   ]
  },
  {
   "cell_type": "code",
   "execution_count": 2,
   "metadata": {
    "collapsed": false
   },
   "outputs": [
    {
     "data": {
      "image/png": "[encoded data removed]",
      "text/plain": [
       "<matplotlib.figure.Figure at 0x7fa38ef57d90>"
      ]
     },
     "metadata": {},
     "output_type": "display_data"
    },
    {
     "name": "stdout",
     "output_type": "stream",
     "text": [
      "rank vector [  8.   10.    7.    2.5   1.    5.    5.    2.5   5.    9. ]\n",
      "Simulated state sequence:  [4 4 6 6 0 1 1 3 3 3 3 3 3 3 3 3 8 8 8 8 8 8 8 8 8 8 8 8 8 8 8 8 8 8 8 8 8\n",
      " 8 4 4 4 4 4 4 4 4 4 4 4 4 4 4 4 4 4 4 4 4 4 4 4 4 5 5 5 5 5 4 4 4 4 4 4 4\n",
      " 4 4 1 2 0 8 8 8 8 8 8 8 6 6 6 6 6 7 7 7 7 7 7 7 7 7]\n"
     ]
    }
   ],
   "source": [
    "# A simulation of the pagerank algorithm\n",
    "#import networkx as nx\n",
    "\n",
    "# Create a random directed graph object and plot it:\n",
    "G = nx.scale_free_graph(10, alpha=0.2, beta=0.4, gamma=0.4)   \n",
    "nx.draw(G,with_labels=1)\n",
    "plt.show()\n",
    "\n",
    "# Next we add identity matrix to the adjacency matrix, which\n",
    "# is equivalent to adding a self loop to each node.\n",
    "# This is a way to make the out degree of every node nonzero.\n",
    "# nx returns adjacency matrix in Scipy sparse format; toarray() converts to dense format\n",
    "n = G.number_of_nodes()\n",
    "A = np.array(nx.adjacency_matrix(G).toarray()) + np.identity(n)\n",
    "                                                       \n",
    "d=0.85    # continuation parameter for pagerank\n",
    " # Next, define transition probability matrix for page rank algoritm\n",
    "P=d*A/A.sum(axis=1)[:,np.newaxis]  + ((1-d)/n)*np.ones((n,n))   # This line of code is crucial to answer part 2 of Problem 1. \n",
    "pi0=np.ones((n))/n #makes initial probability of being at each state equal\n",
    "markov=Markov_chain(P, pi0)  # Uses Markov_chain class defined in first code cell above\n",
    "\n",
    "print \"rank vector\", st.rankdata(-markov.pi(100))  # larger probabilities map to smaller numbers\n",
    "print \"Simulated state sequence: \", markov.rvs(100)   # Prints simulation of Markov chain"
   ]
  },
  {
   "cell_type": "markdown",
   "metadata": {},
   "source": [
    "**<SPAN style=\"BACKGROUND-COLOR: #C0C0C0\">Problem 1:</SPAN>** Run the above code and examine the output for a few graphs.  The nodes are numbered from 0 to n-1, and the rank vector gives the popularity rank for each node.  For example, the position of the one in the rank vector denotes the most popular node.\n",
    "<ol><li> Qualitatively comment on the graphs. Where does it appear that the most popular nodes are?</li>\n",
    "<li> The above code uses a particular method to deal with nodes that have no neighbors.   Perhaps it is not fair, because it rewards nodes that have no links to other nodes.   Propose and implement another method for dealing with nodes that have no outgoing links that you think is better.  Explain why you think your method is better.</li>"
   ]
  },
  {
   "cell_type": "markdown",
   "metadata": {},
   "source": [
    "__Answer:__ \n",
    "1. The most popular nodes tend to be in the center of the graph, meaning, they usually have the most edges pointing to it, or the most edges from nodes with other edges pointing to those nodes.\n",
    "\n",
    "2. If a node has no neighbor, it might be better to just to choose randomly with equal probability from the other nodes, because this way we don't artificially award nodes that don't link to other nodes by letting them loop back to themselves. Otherwise webpages would just not put any links to other webpages to try to increase their own popularity."
   ]
  },
  {
   "cell_type": "code",
   "execution_count": 14,
   "metadata": {
    "collapsed": false
   },
   "outputs": [
    {
     "data": {
      "image/png": "[encoded data removed]",
      "text/plain": [
       "<matplotlib.figure.Figure at 0x7fa37bb71550>"
      ]
     },
     "metadata": {},
     "output_type": "display_data"
    },
    {
     "name": "stdout",
     "output_type": "stream",
     "text": [
      "rank vector [ 1.   2.   3.   4.   7.5  7.5  7.5  7.5  7.5  7.5]\n",
      "Simulated state sequence:  [0 9 2 0 5 9 0 3 1 1 2 0 9 2 0 3 3 2 0 9 0 3 7 2 7 5 3 4 1 2 9 6 9 0 0 3 7\n",
      " 0 8 4 2 0 3 3 3 2 0 3 5 4 0 5 0 9 4 7 3 8 9 9 4 3 4 6 5 9 8 5 0 3 2 0 3 3\n",
      " 0 9 0 6 1 2 0 3 7 1 2 2 0 3 4 9 3 8 3 0 6 5 0 3 0 7]\n"
     ]
    }
   ],
   "source": [
    "# Create a random directed graph object and plot it:\n",
    "G = nx.scale_free_graph(10, alpha=0.2, beta=0.4, gamma=0.4)   \n",
    "nx.draw(G,with_labels=1)\n",
    "plt.show()\n",
    "\n",
    "n = G.number_of_nodes()\n",
    "A = np.array(nx.adjacency_matrix(G).toarray())\n",
    "                                                       \n",
    "d=0.85    # continuation parameter for pagerank\n",
    " # Next, define transition probability matrix for page rank algoritm\n",
    "P=[]\n",
    "for row in A:\n",
    "    #print row\n",
    "    if row.sum()==0:\n",
    "        #if the row has no neighbors (outdegree=0), then that node should transition to any other node with equal probability\n",
    "        P.append(np.ones(n)/n)\n",
    "    else:\n",
    "        #if the row has neighbors it the same formula as above should be applied\n",
    "        P.append(d*row/row.sum()  + ((1-d)/n)*np.ones(n))\n",
    "        #print A\n",
    "        #print A.sum(axis=1)\n",
    "        #print A.sum(axis=1)[:,np.newaxis]\n",
    "        #print A/A.sum(axis=1)[:,np.newaxis]\n",
    "        #print d*A/A.sum(axis=1)[:,np.newaxis]\n",
    "        #print ((1-d)/n)*np.ones((n,n))  \n",
    "        #P.append(d*A/A.sum(axis=1)[:,np.newaxis]  + ((1-d)/n)*np.ones((n,n)))\n",
    "P=np.array(P)\n",
    "pi0=np.ones((n))/n #makes initial probability of being at each state equal\n",
    "\n",
    "markov=Markov_chain(P, pi0)  # Uses Markov_chain class defined in first code cell above\n",
    "\n",
    "print \"rank vector\", st.rankdata(-markov.pi(100))  # larger probabilities map to smaller numbers\n",
    "print \"Simulated state sequence: \", markov.rvs(100)   # Prints simulation of Markov chain\n",
    "\n"
   ]
  },
  {
   "cell_type": "markdown",
   "metadata": {},
   "source": [
    "**<SPAN style=\"BACKGROUND-COLOR: #C0C0C0\">End of Problem 1</SPAN>**"
   ]
  },
  {
   "cell_type": "markdown",
   "metadata": {},
   "source": [
    "## Some statistical inference for Markov chains"
   ]
  },
  {
   "cell_type": "markdown",
   "metadata": {},
   "source": [
    "To prepare for statistical inference for Markov chains, we begin by considering the maximum likelihood (ML) estimator for the distribution of a  sequence of independent, identically distributed discrete random variables.   Specifically, suppose p=[p[0], . . . , p[n-1]] is a probability vector for random variables taking values in {0,1, . . . , n-1}.   That is, p[i] is the probability a generated random variable is equal to i.\n",
    "Suppose that you don't know what the vector p is, but you observe a sequence of T independent random variables that were generated using p.  How would you estimate p?   A natural guess is to use p_hat[i]=(number of samples equal to i)/T.   Basically, p_hat is just a normalized histogram of p.  It can be shown that this choice of p_hat is the maximum likelihood (ML) estimator of p.  (The usual proof is to use a Lagrange multiplier for the constraint p[0]+ . . . + p[n-1]=1.)  Try running the following code several times and see how well p_hat approximates p.  If T is increased the estimates become more accurate."
   ]
  },
  {
   "cell_type": "code",
   "execution_count": 9,
   "metadata": {
    "collapsed": false
   },
   "outputs": [
    {
     "name": "stdout",
     "output_type": "stream",
     "text": [
      "    p: [ 0.2  0.2  0.4  0.2]\n",
      "p_hat: [ 0.25  0.21  0.37  0.17] (estimate of p based on  100 values)\n",
      "Sum of squared errors: 0.0044\n"
     ]
    }
   ],
   "source": [
    "p=np.array([0.2,0.2,0.4,0.2])\n",
    "c=np.arange(np.size(p))\n",
    "Xcstm = st.rv_discrete(values = (c,p))\n",
    "T=100  # Number of values generated\n",
    "values = Xcstm.rvs(size = T)\n",
    "# print values\n",
    "p_hat=np.bincount(values,minlength=np.size(p))/1./np.size(values)\n",
    "print \"    p:\", p\n",
    "print \"p_hat:\", p_hat,\"(estimate of p based on \", T, \"values)\"\n",
    "print \"Sum of squared errors:\", np.linalg.norm(p-p_hat)**2.  # the norm method calculates the 2-norm by default"
   ]
  },
  {
   "cell_type": "markdown",
   "metadata": {},
   "source": [
    "The same principle can be used to estimate the transition probability matrix for a Markov chain.  \n",
    "<br>**<SPAN style=\"BACKGROUND-COLOR: #C0C0C0\">Problem 2:</SPAN>**   Generate a length T simulation of a four state Markov chain using some initial distriubution and some 4x4 transition probability matrix P.  Select P to have some zeros in it, but make sure the process can eventually get to any state starting from any other state.  Then, taking the generated sequence as the only input, generate an estimate, P_hat, of the matrix P.   Your estimator should be more accurate for larger values of T.  (Hint:  For a given state i, the ith row of P is the probability distribution of the next state, given the current state is i.  So to estimate the ith row of P, you should focus on the states that occur just after state i is visited.)"
   ]
  },
  {
   "cell_type": "code",
   "execution_count": 5,
   "metadata": {
    "collapsed": false
   },
   "outputs": [
    {
     "name": "stdout",
     "output_type": "stream",
     "text": [
      "Markov process values: [3 3 1 ..., 2 0 1]\n",
      "Actual Probability matrix:\n",
      "[[ 0.1   0.2   0.3   0.4 ]\n",
      " [ 0.15  0.15  0.45  0.25]\n",
      " [ 0.8   0.    0.1   0.1 ]\n",
      " [ 0.    0.5   0.25  0.25]]\n",
      "Probability Estimate matrix:\n",
      "[[ 0.10387193  0.20215934  0.29523455  0.39873418]\n",
      " [ 0.15004704  0.14816557  0.44873001  0.25305738]\n",
      " [ 0.79180887  0.          0.09897611  0.10921502]\n",
      " [ 0.          0.49764706  0.24666667  0.25568627]]\n"
     ]
    }
   ],
   "source": [
    "T=10000 #say simulation length is 10,000\n",
    "#NOTE: FOR SMALL VALUES OF T, SOME NODES MAY NEVER BE VISITED AND THE PROGRAM MAY PRODUCE AN ERROR\n",
    "#because the proability estimation is #_of_sameples/occurrences and occurrences would be zero then\n",
    "\n",
    "p=np.array([[.1,.2,.3,.4],[.15,.15,.45,.25],[.8,0,.1,.1],[0,.5,.25,.25]])#some probability matrix\n",
    "p0=[.25,.25,.25,.25]#some initial state probability matrix\n",
    "\n",
    "markov=Markov_chain(p,p0)\n",
    "values=markov.rvs(T)#generated sequance of states in markov chain\n",
    "print \"Markov process values:\" ,values\n",
    "\n",
    "p_hat=np.zeros((4,4))\n",
    "for i in range(len(values)-1):\n",
    "    #this goes through the values and counts the states that were visited just after other states\n",
    "    mFrom=values[i]\n",
    "    mTo=values[i+1]\n",
    "    p_hat[mFrom][mTo]+=1\n",
    "    \n",
    "p_hat=p_hat/p_hat.sum(axis=1)[:,np.newaxis]\n",
    "#this divides each element in a row by the sum of elements in that row\n",
    "\n",
    "print \"Actual Probability matrix:\\n\", p\n",
    "print \"Probability Estimate matrix:\\n\",p_hat\n"
   ]
  },
  {
   "cell_type": "markdown",
   "metadata": {},
   "source": [
    "**<SPAN style=\"BACKGROUND-COLOR: #C0C0C0\">End of Problem 2</SPAN>**"
   ]
  },
  {
   "cell_type": "markdown",
   "metadata": {},
   "source": [
    "## Cache Replacement Policy:"
   ]
  },
  {
   "cell_type": "markdown",
   "metadata": {},
   "source": [
    "A cache is used to hold information so the information can be retrieved more quickly than going through memory. Suppose you have a memory or server that holds $n$ elements and you have a cache that holds $k$ elements ($n>k$). When you want to retrieve an item, you first search through the cache. If the item is in the cache, it is considered a hit. If it's not in the cache, it's considered a miss. When a miss occurs, you have the longer process of searching for the item in memory. A key question for cache design is what items to keep in the cache? When you have a miss should you place that item in the cache?  If so, what item in the cache should you replace (i.e. drop from the cache to make room)?  Since it's unlikely the items will be uniformly searched for (some items will be more popular than others) many policies have been developed to try and maximize the liklihood that a requested item will be in the cache. A few are listed below:\n",
    "<ol>\n",
    "    <li> Belady's Algorithm: This is considered to be the most efficient algorithm possible. When a miss occurs, it retrieves that item and replaces an item in the cache with it. The item that's replaced is the item that will not be retrieved for the longest time in the future. It is a practically impossible algorithm because it requires knowledge of how far in the future an item will needed. </li><br>\n",
    "    <li>Least Recently Used (LRU): You can think of this algorithm as a first in first out queue. When a miss occurs, that element gets retrieved from memory and gets put at the top of that queue. It replaces the item in the cache that was retrieved the longest time ago. When a hit occurs, that item gets put back to the top of the queue.</li><br>\n",
    "    <li>Random Replacement (RR): This algortihm is similiar to the LRU algorithm except the miss replaces an element that was previously in the cache, selected uniformly at random.</li><br>\n",
    "    <li>Least Frequently Used (LFU): In this algorithm the miss replaces the element in the cache that is the least frequently used. It's a little more complicated because you need to keep a count on the number of hits an element in the cache gets over a certain time period, or something similar. </li><br>\n",
    "</ol>\n",
    "\n",
    "Let's try and simulate the Least Recently Used policy. In your folder should be a file called all_names.csv. We are going to load this in and use it as the memory. We are also going to set up an ordered array to represent the cache. Then we're going to simulate retrievals of information based on a Zipf distribution and see what our experimental hit percentage is."
   ]
  },
  {
   "cell_type": "code",
   "execution_count": 6,
   "metadata": {
    "collapsed": false
   },
   "outputs": [
    {
     "name": "stdout",
     "output_type": "stream",
     "text": [
      "Hit Percentage: 0.3518\n"
     ]
    },
    {
     "data": {
      "image/png": "[encoded data removed]",
      "text/plain": [
       "<matplotlib.figure.Figure at 0x7fa37ba452d0>"
      ]
     },
     "metadata": {},
     "output_type": "display_data"
    }
   ],
   "source": [
    "#Loads the CSV file\n",
    "def load_file(filename):\n",
    "    names = []\n",
    "    try:\n",
    "        f = open(filename)\n",
    "        reader = csv.reader(f)\n",
    "        for row in reader:\n",
    "            names.append(row[0])\n",
    "        f.close()\n",
    "    except:\n",
    "        print 'Error: Could Not Load File'\n",
    "    return np.array(names)\n",
    "\n",
    "#Creates a zipf distribution using the stats discrete module\n",
    "def zipf(s, N):\n",
    "    n = range(1,N+1)\n",
    "    p = []\n",
    "    z = 0.\n",
    "    for i in n:\n",
    "        temp = (1./i)**s\n",
    "        p.append(temp)\n",
    "        z = z+temp\n",
    "    for i in range(np.size(p)): p[i]=p[i]/z\n",
    "    return st.rv_discrete(name = 'Zipf', values=(n,p))\n",
    "\n",
    "#When a hit occurs, move the hit item to the top of the list for LRU\n",
    "def cache_hit(cache,item):\n",
    "    # cache.index(item) is current location of item in the cache\n",
    "    for i in range(cache.index(item),np.size(cache)-1):    \n",
    "        cache[i] = cache[i+1]\n",
    "    cache[np.size(cache)-1] = item\n",
    "    return cache\n",
    "    \n",
    "#When a miss occurs, replace the least recently used (LRU) item\n",
    "def cache_miss(cache, item):\n",
    "    for i in range(np.size(cache)-1):\n",
    "        cache[i]=cache[i+1]\n",
    "    cache[np.size(cache)-1] = item\n",
    "    return cache\n",
    "\n",
    "#Runs the main code for the simulation\n",
    "filename = 'all_names.csv'\n",
    "names = load_file(filename) #This is treated as your memory\n",
    "rv_zipf = zipf(1.0,np.size(names))\n",
    "k = 50 #Size of the Cache\n",
    "r = 10000 #Number of retrievals\n",
    "hits = 0. #Keeps track of the number of hits in the cache\n",
    "hit_av = [] #Keeps track of the hit average\n",
    "cache = [] #List to represent the cache\n",
    "\n",
    "# We first fill cache with k items.  We don't check for\n",
    "# duplicates because if item stream is not diverse this\n",
    "# step could cause infinite loop.\n",
    "while np.size(cache) < k:                 \n",
    "    rv = rv_zipf.rvs()-1   #Random variate from the zipf distribution\n",
    "    item = names[rv]    #Item to be retrieved\n",
    "    cache.append(item)\n",
    "        \n",
    "for i in range(r):\n",
    "    rv = rv_zipf.rvs()-1   #Random variate from the zipf distribution\n",
    "    item = names[rv]    #Item to be retrieved\n",
    "    if item in cache:\n",
    "        cache = cache_hit(cache, item)\n",
    "        hits = hits+1\n",
    "    else:\n",
    "        cache = cache_miss(cache, item)\n",
    "    hit_av.append(hits/(i+1))\n",
    "\n",
    "plt.plot(hit_av)\n",
    "plt.title('Moving Hit Percentage')\n",
    "plt.xlabel('Number of Items Retrieved')\n",
    "plt.ylabel('Hit Percentage')\n",
    "print 'Hit Percentage:', hit_av[np.size(hit_av)-1]"
   ]
  },
  {
   "cell_type": "markdown",
   "metadata": {},
   "source": [
    "<br>**<SPAN style=\"BACKGROUND-COLOR: #C0C0C0\">Problem 3:</SPAN>** Use the code given above to do the following:\n",
    "<ol>\n",
    "<li> Create a new simulation using a random replacement policy. What is the impact on the hit percentage? Plot the moving hit percentage under this policy.</li>\n",
    "<li> We used a Zipf distribution to represent the retrieval requests. It is a heavy tailed distribution with two parameters s and N. Run the given LRU simulation, but vary the s value from 0.5 to 3 in .5 increments. Plot the moving hit percentage under each of these conditions. Why might this be occuring? (The answer lies in the structure of the Zipf distribution)</li>\n",
    "<li> Setting s=1.0 again for the LRU simulation, print out the cache hit rate for k=50, 100, 400, respectively.  How does the cache hit rate vary with the cache size k? Why is that?  \n",
    "<li> Explain whether or not the state of the cache in this experiment can be viewed as a Markov process, both for the LRU policy and for the random replacement policy.</li>"
   ]
  },
  {
   "cell_type": "code",
   "execution_count": 15,
   "metadata": {
    "collapsed": false
   },
   "outputs": [
    {
     "name": "stdout",
     "output_type": "stream",
     "text": [
      "1.\n",
      "Hit Percentage: 0.2971\n",
      "\n",
      "2.\n",
      "[ 0.5  1.   1.5  2.   2.5  3. ]\n",
      "\n",
      "3.\n",
      "For k=50 Hit Percentage: 0.3429\n",
      "For k=100 Hit Percentage: 0.4361\n",
      "For k=400 Hit Percentage: 0.5876\n"
     ]
    },
    {
     "data": {
      "image/png": "[encoded data removed]",
      "text/plain": [
       "<matplotlib.figure.Figure at 0x7fa37b643650>"
      ]
     },
     "metadata": {},
     "output_type": "display_data"
    },
    {
     "data": {
      "image/png": "[encoded data removed]",
      "text/plain": [
       "<matplotlib.figure.Figure at 0x7fa37b643590>"
      ]
     },
     "metadata": {},
     "output_type": "display_data"
    }
   ],
   "source": [
    "#NOTE: THIS CODE CAN TAKE FROM 20 TO 30 SECONDS TO RUN OCCASIONALLY\n",
    "\n",
    "print \"1.\"\n",
    "#for random replacement cache hit is same--so we only need to change cache_miss\n",
    "def cache_miss_RR(cache, item):\n",
    "    new=np.random.randint(np.size(cache))#replace the miss with a random index in cache\n",
    "    for i in range(new,np.size(cache)-1):\n",
    "        cache[i]=cache[i+1]\n",
    "    cache[np.size(cache)-1] = item\n",
    "    return cache\n",
    "\n",
    "#the code below is used from the cell above except cache_miss was changed to cache_miss_RR\n",
    "\n",
    "#Runs the main code for the simulation\n",
    "filename = 'all_names.csv'\n",
    "names = load_file(filename) #This is treated as your memory\n",
    "rv_zipf = zipf(1.0,np.size(names))\n",
    "k = 50 #Size of the Cache\n",
    "r = 10000 #Number of retrievals\n",
    "hits = 0. #Keeps track of the number of hits in the cache\n",
    "hit_av = [] #Keeps track of the hit average\n",
    "cache = [] #List to represent the cache\n",
    "\n",
    "# We first fill cache with k items.  We don't check for\n",
    "# duplicates because if item stream is not diverse this\n",
    "# step could cause infinite loop.\n",
    "while np.size(cache) < k:                 \n",
    "    rv = rv_zipf.rvs()-1   #Random variate from the zipf distribution\n",
    "    item = names[rv]    #Item to be retrieved\n",
    "    cache.append(item)\n",
    "        \n",
    "for i in range(r):\n",
    "    rv = rv_zipf.rvs()-1   #Random variate from the zipf distribution\n",
    "    item = names[rv]    #Item to be retrieved\n",
    "    if item in cache:\n",
    "        cache = cache_hit(cache, item)\n",
    "        hits = hits+1\n",
    "    else:\n",
    "        cache = cache_miss_RR(cache, item)\n",
    "    hit_av.append(hits/(i+1))\n",
    "\n",
    "plt.plot(hit_av)\n",
    "plt.title('1. Moving Hit Percentage RR policy')\n",
    "plt.xlabel('Number of Items Retrieved')\n",
    "plt.ylabel('Hit Percentage')\n",
    "print 'Hit Percentage:', hit_av[np.size(hit_av)-1]\n",
    "\n",
    "\n",
    "\n",
    "\n",
    "print \"\\n2.\"\n",
    "plt.figure()\n",
    "s_values=np.linspace(.5,3,6)\n",
    "print s_values\n",
    "for s in range(np.size(s_values)-1):\n",
    "    #the simulation is run again--only lines I changed is the one under this and the plt.plot\n",
    "    rv_zipf = zipf(s_values[s],np.size(names))\n",
    "    k = 50 #Size of the Cache\n",
    "    r = 10000 #Number of retrievals\n",
    "    hits = 0. #Keeps track of the number of hits in the cache\n",
    "    hit_av = [] #Keeps track of the hit average\n",
    "    cache = [] #List to represent the cache\n",
    "\n",
    "    # We first fill cache with k items.  We don't check for\n",
    "    # duplicates because if item stream is not diverse this\n",
    "    # step could cause infinite loop.\n",
    "    while np.size(cache) < k:                 \n",
    "        rv = rv_zipf.rvs()-1   #Random variate from the zipf distribution\n",
    "        item = names[rv]    #Item to be retrieved\n",
    "        cache.append(item)\n",
    "\n",
    "    for i in range(r):\n",
    "        rv = rv_zipf.rvs()-1   #Random variate from the zipf distribution\n",
    "        item = names[rv]    #Item to be retrieved\n",
    "        if item in cache:\n",
    "            cache = cache_hit(cache, item)\n",
    "            hits = hits+1\n",
    "        else:\n",
    "            cache = cache_miss(cache, item)\n",
    "        hit_av.append(hits/(i+1))\n",
    "\n",
    "    plt.plot(hit_av,label=str(s_values[s]))\n",
    "    \n",
    "plt.title('2. Moving Hit Percentage LRU policy, with different zipf s values')\n",
    "plt.xlabel('Number of Items Retrieved')\n",
    "plt.ylabel('Hit Percentage')\n",
    "plt.legend(loc=\"best\",title=\"s values\")\n",
    "\n",
    "\n",
    "print\"\\n3.\"\n",
    "for k in [50,100,400]:#simulation is run again only lines change: print, and k= was deleted\n",
    "    rv_zipf = zipf(1.0,np.size(names))\n",
    "    r = 10000 #Number of retrievals\n",
    "    hits = 0. #Keeps track of the number of hits in the cache\n",
    "    hit_av = [] #Keeps track of the hit average\n",
    "    cache = [] #List to represent the cache\n",
    "\n",
    "    # We first fill cache with k items.  We don't check for\n",
    "    # duplicates because if item stream is not diverse this\n",
    "    # step could cause infinite loop.\n",
    "    while np.size(cache) < k:                 \n",
    "        rv = rv_zipf.rvs()-1   #Random variate from the zipf distribution\n",
    "        item = names[rv]    #Item to be retrieved\n",
    "        cache.append(item)\n",
    "\n",
    "    for i in range(r):\n",
    "        rv = rv_zipf.rvs()-1   #Random variate from the zipf distribution\n",
    "        item = names[rv]    #Item to be retrieved\n",
    "        if item in cache:\n",
    "            cache = cache_hit(cache, item)\n",
    "            hits = hits+1\n",
    "        else:\n",
    "            cache = cache_miss(cache, item)\n",
    "        hit_av.append(hits/(i+1))\n",
    "    print 'For k='+str(k)+' Hit Percentage:', hit_av[np.size(hit_av)-1]"
   ]
  },
  {
   "cell_type": "markdown",
   "metadata": {},
   "source": [
    "__Answer:__ \n",
    "1. After running the simulation a few times the hit percentage for the Random Replacement policy seems to consistently be slightly less than the hit percentage for the Least Recently Used policy.\n",
    "2. It seems that percentage hit increases for larger values of s. This makes sense because the pdf of the zipf distribution is an inverse relation of x (pdf = 1/(x^s)Z) where Z is some constant. As the parameter s gets larger, the tail probability of the the pdf increases, in other words, the probability that items from lower indices is chosen increases. This means that with a larger s parameter, the probability an item that is already in the cache is chosen increases, so the moving hit percentage would increase. \n",
    "3. The larger the cache size, the larger the hit rate. This makes sense, because for a fixed number of items, and a larger cache the probability that a chosen item is in the cache is larger.\n",
    "4. The RR policy can be viewed as a Markov Process because the current state of the cache does not depend on the previous state of the cache. The LRU cannot be viewed as a Markov process, because the next state of the cache depends on the previous state (an item is replaced witht the previously least recently used item).\n"
   ]
  },
  {
   "cell_type": "markdown",
   "metadata": {},
   "source": [
    "**<SPAN style=\"BACKGROUND-COLOR: #C0C0C0\">End of Problem 3</SPAN>**"
   ]
  },
  {
   "cell_type": "markdown",
   "metadata": {},
   "source": [
    "## Lab Questions:"
   ]
  },
  {
   "cell_type": "markdown",
   "metadata": {},
   "source": [
    "Make sure to complete all lab questions 1-3 for this weeks lab."
   ]
  },
  {
   "cell_type": "markdown",
   "metadata": {},
   "source": [
    "<div class=\"alert alert-block alert-warning\"> \n",
    "## Academic Integrity Statement ##\n",
    "\n",
    "By submitting the lab with this statement, you declare you have written up the lab entirely by yourself, including both code and markdown cells. You also agree that you should not share your code with anyone else. Any violation of the academic integrity requirement may cause an academic integrity report to be filed that could go into your student record. See <a href=\"https://provost.illinois.edu/policies/policies/academic-integrity/students-quick-reference-guide-to-academic-integrity/\">Students' Quick Reference Guide to Academic Integrity</a> for more information. "
   ]
  }
 ],
 "metadata": {
  "anaconda-cloud": {},
  "kernelspec": {
   "display_name": "Python 2",
   "language": "python",
   "name": "python2"
  },
  "language_info": {
   "codemirror_mode": {
    "name": "ipython",
    "version": 2
   },
   "file_extension": ".py",
   "mimetype": "text/x-python",
   "name": "python",
   "nbconvert_exporter": "python",
   "pygments_lexer": "ipython2",
   "version": "2.7.11"
  }
 },
 "nbformat": 4,
 "nbformat_minor": 1
}
